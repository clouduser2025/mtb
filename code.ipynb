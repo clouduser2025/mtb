{
 "cells": [
  {
   "cell_type": "code",
   "execution_count": 5,
   "metadata": {},
   "outputs": [
    {
     "name": "stdout",
     "output_type": "stream",
     "text": [
      "      token             symbol               name expiry  strike lotsize  \\\n",
      "0  99926000           Nifty 50              NIFTY   None     0.0       1   \n",
      "1  99926001  Nifty GrowSect 15  NIFTY GROWSECT 15   None     0.0       1   \n",
      "2  99926002  Nifty50 PR 2x Lev  NIFTY50 PR 2X LEV   None     0.0       1   \n",
      "3  99926004          Nifty 500          NIFTY 500   None     0.0       1   \n",
      "4  99926008           Nifty IT           NIFTY IT   None     0.0       1   \n",
      "\n",
      "  instrumenttype exch_seg tick_size  \n",
      "0         AMXIDX      NSE  0.000000  \n",
      "1         AMXIDX      NSE  0.000000  \n",
      "2         AMXIDX      NSE  0.000000  \n",
      "3         AMXIDX      NSE  0.000000  \n",
      "4         AMXIDX      NSE  0.000000  \n"
     ]
    },
    {
     "name": "stderr",
     "output_type": "stream",
     "text": [
      "C:\\Users\\shafe\\AppData\\Local\\Temp\\ipykernel_33152\\2386442232.py:18: UserWarning: Could not infer format, so each element will be parsed individually, falling back to `dateutil`. To ensure parsing is consistent and as-expected, please specify a format.\n",
      "  df['expiry'] = pd.to_datetime(df['expiry'], errors='coerce').apply(lambda x: x.date() if pd.notnull(x) else None)\n"
     ]
    }
   ],
   "source": [
    "import requests\n",
    "import pandas as pd\n",
    "\n",
    "# Define the API URL for fetching instrument data\n",
    "url = 'https://margincalculator.angelbroking.com/OpenAPI_File/files/OpenAPIScripMaster.json'\n",
    "\n",
    "# Fetch the data using requests\n",
    "response = requests.get(url)\n",
    "\n",
    "# Check if the request was successful\n",
    "if response.status_code == 200:\n",
    "    # Convert the response JSON data to a DataFrame\n",
    "    data = response.json()\n",
    "    df = pd.DataFrame(data)\n",
    "\n",
    "    # Convert expiry to datetime if it's present\n",
    "    if 'expiry' in df.columns:\n",
    "        df['expiry'] = pd.to_datetime(df['expiry'], errors='coerce').apply(lambda x: x.date() if pd.notnull(x) else None)\n",
    "\n",
    "    # Convert strike to float\n",
    "    df['strike'] = df['strike'].astype(float)\n",
    "\n",
    "    # Display the first few rows of the DataFrame\n",
    "    print(df.head())\n",
    "\n",
    "else:\n",
    "    print(f\"Failed to fetch data. Status code: {response.status_code}\")\n"
   ]
  },
  {
   "cell_type": "code",
   "execution_count": 6,
   "metadata": {},
   "outputs": [
    {
     "name": "stdout",
     "output_type": "stream",
     "text": [
      "Call Options:\n",
      "       token     symbol       name expiry  strike  lotsize instrumenttype  \\\n",
      "3  99926003  Nifty 500  NIFTY 500   None     0.0        1             CE   \n",
      "\n",
      "  exch_seg  tick_size  \n",
      "3      NSE        0.0  \n",
      "Put Options:\n",
      " Empty DataFrame\n",
      "Columns: [token, symbol, name, expiry, strike, lotsize, instrumenttype, exch_seg, tick_size]\n",
      "Index: []\n"
     ]
    }
   ],
   "source": [
    "import pandas as pd\n",
    "\n",
    "# Example data\n",
    "data = {\n",
    "    'token': [99926000, 99926001, 99926002, 99926003],\n",
    "    'symbol': ['Nifty 50', 'Nifty GrowSect 15', 'Nifty50 PR 2x Lev', 'Nifty 500'],\n",
    "    'name': ['NIFTY', 'NIFTY GROWSECT 15', 'NIFTY50 PR 2X LEV', 'NIFTY 500'],\n",
    "    'expiry': [None, None, None, None],\n",
    "    'strike': [0.0, 0.0, 0.0, 0.0],\n",
    "    'lotsize': [1, 1, 1, 1],\n",
    "    'instrumenttype': ['AMXIDX', 'AMXIDX', 'AMXIDX', 'CE'],  # 'CE' for Call option, 'PE' for Put option\n",
    "    'exch_seg': ['NSE', 'NSE', 'NSE', 'NSE'],\n",
    "    'tick_size': [0.0, 0.0, 0.0, 0.0]\n",
    "}\n",
    "\n",
    "# Creating DataFrame\n",
    "df = pd.DataFrame(data)\n",
    "\n",
    "# Filtering for Call (CE) and Put (PE) options\n",
    "call_options = df[df['instrumenttype'] == 'CE']\n",
    "put_options = df[df['instrumenttype'] == 'PE']\n",
    "\n",
    "print(\"Call Options:\\n\", call_options)\n",
    "print(\"Put Options:\\n\", put_options)\n"
   ]
  },
  {
   "cell_type": "code",
   "execution_count": 2,
   "metadata": {},
   "outputs": [
    {
     "name": "stdout",
     "output_type": "stream",
     "text": [
      "Excel data loaded:       token             symbol               name expiry  strike  lotsize  \\\n",
      "0  99926000           Nifty 50              NIFTY    NaN     0.0        1   \n",
      "1  99926001  Nifty GrowSect 15  NIFTY GROWSECT 15    NaN     0.0        1   \n",
      "2  99926002  Nifty50 PR 2x Lev  NIFTY50 PR 2X LEV    NaN     0.0        1   \n",
      "3  99926004          Nifty 500          NIFTY 500    NaN     0.0        1   \n",
      "4  99926008           Nifty IT           NIFTY IT    NaN     0.0        1   \n",
      "\n",
      "  instrumenttype exch_seg  tick_size  \n",
      "0         AMXIDX      NSE        0.0  \n",
      "1         AMXIDX      NSE        0.0  \n",
      "2         AMXIDX      NSE        0.0  \n",
      "3         AMXIDX      NSE        0.0  \n",
      "4         AMXIDX      NSE        0.0  \n"
     ]
    }
   ],
   "source": [
    "import pandas as pd\n",
    "df = pd.read_excel('OpenAPIScripMaster.xlsx')\n",
    "print(f\"Excel data loaded: {df.head()}\")  # This will print the first few rows of your DataFrame"
   ]
  }
 ],
 "metadata": {
  "kernelspec": {
   "display_name": "base",
   "language": "python",
   "name": "python3"
  },
  "language_info": {
   "codemirror_mode": {
    "name": "ipython",
    "version": 3
   },
   "file_extension": ".py",
   "mimetype": "text/x-python",
   "name": "python",
   "nbconvert_exporter": "python",
   "pygments_lexer": "ipython3",
   "version": "3.12.3"
  }
 },
 "nbformat": 4,
 "nbformat_minor": 2
}
